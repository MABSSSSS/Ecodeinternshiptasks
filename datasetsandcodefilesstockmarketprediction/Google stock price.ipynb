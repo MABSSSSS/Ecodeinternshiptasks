{
 "cells": [
  {
   "cell_type": "code",
   "execution_count": 4,
   "metadata": {},
   "outputs": [],
   "source": [
    "import numpy as np \n",
    "import pandas as pd \n",
    "import matplotlib.pyplot as plt \n",
    "from sklearn.preprocessing import MinMaxScaler\n",
    "from keras.models import Sequential\n",
    "from keras.layers import Dense,LSTM,Dropout"
   ]
  },
  {
   "cell_type": "code",
   "execution_count": 5,
   "metadata": {},
   "outputs": [
    {
     "data": {
      "text/html": [
       "<div>\n",
       "<style scoped>\n",
       "    .dataframe tbody tr th:only-of-type {\n",
       "        vertical-align: middle;\n",
       "    }\n",
       "\n",
       "    .dataframe tbody tr th {\n",
       "        vertical-align: top;\n",
       "    }\n",
       "\n",
       "    .dataframe thead th {\n",
       "        text-align: right;\n",
       "    }\n",
       "</style>\n",
       "<table border=\"1\" class=\"dataframe\">\n",
       "  <thead>\n",
       "    <tr style=\"text-align: right;\">\n",
       "      <th></th>\n",
       "      <th>Date</th>\n",
       "      <th>Open</th>\n",
       "      <th>High</th>\n",
       "      <th>Low</th>\n",
       "      <th>Close</th>\n",
       "      <th>Volume</th>\n",
       "    </tr>\n",
       "  </thead>\n",
       "  <tbody>\n",
       "    <tr>\n",
       "      <th>0</th>\n",
       "      <td>1/3/2012</td>\n",
       "      <td>325.25</td>\n",
       "      <td>332.83</td>\n",
       "      <td>324.97</td>\n",
       "      <td>663.59</td>\n",
       "      <td>7,380,500</td>\n",
       "    </tr>\n",
       "    <tr>\n",
       "      <th>1</th>\n",
       "      <td>1/4/2012</td>\n",
       "      <td>331.27</td>\n",
       "      <td>333.87</td>\n",
       "      <td>329.08</td>\n",
       "      <td>666.45</td>\n",
       "      <td>5,749,400</td>\n",
       "    </tr>\n",
       "    <tr>\n",
       "      <th>2</th>\n",
       "      <td>1/5/2012</td>\n",
       "      <td>329.83</td>\n",
       "      <td>330.75</td>\n",
       "      <td>326.89</td>\n",
       "      <td>657.21</td>\n",
       "      <td>6,590,300</td>\n",
       "    </tr>\n",
       "    <tr>\n",
       "      <th>3</th>\n",
       "      <td>1/6/2012</td>\n",
       "      <td>328.34</td>\n",
       "      <td>328.77</td>\n",
       "      <td>323.68</td>\n",
       "      <td>648.24</td>\n",
       "      <td>5,405,900</td>\n",
       "    </tr>\n",
       "    <tr>\n",
       "      <th>4</th>\n",
       "      <td>1/9/2012</td>\n",
       "      <td>322.04</td>\n",
       "      <td>322.29</td>\n",
       "      <td>309.46</td>\n",
       "      <td>620.76</td>\n",
       "      <td>11,688,800</td>\n",
       "    </tr>\n",
       "  </tbody>\n",
       "</table>\n",
       "</div>"
      ],
      "text/plain": [
       "       Date    Open    High     Low   Close      Volume\n",
       "0  1/3/2012  325.25  332.83  324.97  663.59   7,380,500\n",
       "1  1/4/2012  331.27  333.87  329.08  666.45   5,749,400\n",
       "2  1/5/2012  329.83  330.75  326.89  657.21   6,590,300\n",
       "3  1/6/2012  328.34  328.77  323.68  648.24   5,405,900\n",
       "4  1/9/2012  322.04  322.29  309.46  620.76  11,688,800"
      ]
     },
     "execution_count": 5,
     "metadata": {},
     "output_type": "execute_result"
    }
   ],
   "source": [
    "data = pd.read_csv('Google_train_data.csv')#importing dataset.\n",
    "data.head()"
   ]
  },
  {
   "cell_type": "code",
   "execution_count": 6,
   "metadata": {},
   "outputs": [
    {
     "name": "stdout",
     "output_type": "stream",
     "text": [
      "<class 'pandas.core.frame.DataFrame'>\n",
      "RangeIndex: 1258 entries, 0 to 1257\n",
      "Data columns (total 6 columns):\n",
      " #   Column  Non-Null Count  Dtype  \n",
      "---  ------  --------------  -----  \n",
      " 0   Date    1258 non-null   object \n",
      " 1   Open    1258 non-null   float64\n",
      " 2   High    1258 non-null   float64\n",
      " 3   Low     1258 non-null   float64\n",
      " 4   Close   1258 non-null   object \n",
      " 5   Volume  1258 non-null   object \n",
      "dtypes: float64(3), object(3)\n",
      "memory usage: 59.1+ KB\n"
     ]
    }
   ],
   "source": [
    "data.info()"
   ]
  },
  {
   "cell_type": "code",
   "execution_count": 7,
   "metadata": {},
   "outputs": [],
   "source": [
    "data[\"Close\"]=pd.to_numeric(data.Close,errors='coerce')\n",
    "data = data.dropna()\n",
    "trainData = data.iloc[:,4:5].values"
   ]
  },
  {
   "cell_type": "code",
   "execution_count": 8,
   "metadata": {},
   "outputs": [
    {
     "name": "stdout",
     "output_type": "stream",
     "text": [
      "<class 'pandas.core.frame.DataFrame'>\n",
      "Index: 1149 entries, 0 to 1257\n",
      "Data columns (total 6 columns):\n",
      " #   Column  Non-Null Count  Dtype  \n",
      "---  ------  --------------  -----  \n",
      " 0   Date    1149 non-null   object \n",
      " 1   Open    1149 non-null   float64\n",
      " 2   High    1149 non-null   float64\n",
      " 3   Low     1149 non-null   float64\n",
      " 4   Close   1149 non-null   float64\n",
      " 5   Volume  1149 non-null   object \n",
      "dtypes: float64(4), object(2)\n",
      "memory usage: 62.8+ KB\n"
     ]
    }
   ],
   "source": [
    "data.info()"
   ]
  },
  {
   "cell_type": "code",
   "execution_count": 9,
   "metadata": {},
   "outputs": [
    {
     "data": {
      "text/plain": [
       "(1149, 1)"
      ]
     },
     "execution_count": 9,
     "metadata": {},
     "output_type": "execute_result"
    }
   ],
   "source": [
    "sc = MinMaxScaler(feature_range=(0,1))\n",
    "trainData = sc.fit_transform(trainData)\n",
    "trainData.shape"
   ]
  },
  {
   "cell_type": "code",
   "execution_count": 10,
   "metadata": {},
   "outputs": [],
   "source": [
    "X_train = []\n",
    "y_train = []\n",
    "\n",
    "for i in range (60,1149): #60 : timestep // 1149 : length of the data\n",
    "    X_train.append(trainData[i-60:i,0]) \n",
    "    y_train.append(trainData[i,0])\n",
    "\n",
    "X_train,y_train = np.array(X_train),np.array(y_train)"
   ]
  },
  {
   "cell_type": "code",
   "execution_count": 11,
   "metadata": {},
   "outputs": [
    {
     "data": {
      "text/plain": [
       "(1089, 60, 1)"
      ]
     },
     "execution_count": 11,
     "metadata": {},
     "output_type": "execute_result"
    }
   ],
   "source": [
    "X_train = np.reshape(X_train,(X_train.shape[0],X_train.shape[1],1)) #adding the batch_size axis\n",
    "X_train.shape"
   ]
  },
  {
   "cell_type": "code",
   "execution_count": 12,
   "metadata": {},
   "outputs": [
    {
     "name": "stderr",
     "output_type": "stream",
     "text": [
      "C:\\Users\\theni\\AppData\\Local\\Packages\\PythonSoftwareFoundation.Python.3.12_qbz5n2kfra8p0\\LocalCache\\local-packages\\Python312\\site-packages\\keras\\src\\layers\\rnn\\rnn.py:204: UserWarning: Do not pass an `input_shape`/`input_dim` argument to a layer. When using Sequential models, prefer using an `Input(shape)` object as the first layer in the model instead.\n",
      "  super().__init__(**kwargs)\n"
     ]
    }
   ],
   "source": [
    "model = Sequential()\n",
    "\n",
    "model.add(LSTM(units=100, return_sequences = True, input_shape =(X_train.shape[1],1)))\n",
    "model.add(Dropout(0.2))\n",
    "\n",
    "model.add(LSTM(units=100, return_sequences = True))\n",
    "model.add(Dropout(0.2))\n",
    "\n",
    "model.add(LSTM(units=100, return_sequences = True))\n",
    "model.add(Dropout(0.2))\n",
    "\n",
    "model.add(LSTM(units=100, return_sequences = False))\n",
    "model.add(Dropout(0.2))\n",
    "\n",
    "model.add(Dense(units =1))\n",
    "model.compile(optimizer='adam',loss=\"mean_squared_error\")"
   ]
  },
  {
   "cell_type": "code",
   "execution_count": 13,
   "metadata": {},
   "outputs": [
    {
     "name": "stdout",
     "output_type": "stream",
     "text": [
      "Epoch 1/20\n",
      "35/35 - 12s - 335ms/step - loss: 0.0355\n",
      "Epoch 2/20\n",
      "35/35 - 5s - 137ms/step - loss: 0.0117\n",
      "Epoch 3/20\n",
      "35/35 - 5s - 137ms/step - loss: 0.0089\n",
      "Epoch 4/20\n",
      "35/35 - 4s - 124ms/step - loss: 0.0176\n",
      "Epoch 5/20\n",
      "35/35 - 4s - 104ms/step - loss: 0.0077\n",
      "Epoch 6/20\n",
      "35/35 - 3s - 93ms/step - loss: 0.0066\n",
      "Epoch 7/20\n",
      "35/35 - 4s - 104ms/step - loss: 0.0072\n",
      "Epoch 8/20\n",
      "35/35 - 4s - 123ms/step - loss: 0.0058\n",
      "Epoch 9/20\n",
      "35/35 - 4s - 120ms/step - loss: 0.0064\n",
      "Epoch 10/20\n",
      "35/35 - 4s - 106ms/step - loss: 0.0056\n",
      "Epoch 11/20\n",
      "35/35 - 4s - 109ms/step - loss: 0.0059\n",
      "Epoch 12/20\n",
      "35/35 - 3s - 97ms/step - loss: 0.0071\n",
      "Epoch 13/20\n",
      "35/35 - 4s - 115ms/step - loss: 0.0070\n",
      "Epoch 14/20\n",
      "35/35 - 4s - 113ms/step - loss: 0.0056\n",
      "Epoch 15/20\n",
      "35/35 - 4s - 120ms/step - loss: 0.0053\n",
      "Epoch 16/20\n",
      "35/35 - 4s - 119ms/step - loss: 0.0101\n",
      "Epoch 17/20\n",
      "35/35 - 4s - 123ms/step - loss: 0.0053\n",
      "Epoch 18/20\n",
      "35/35 - 5s - 132ms/step - loss: 0.0050\n",
      "Epoch 19/20\n",
      "35/35 - 5s - 135ms/step - loss: 0.0048\n",
      "Epoch 20/20\n",
      "35/35 - 4s - 113ms/step - loss: 0.0045\n"
     ]
    }
   ],
   "source": [
    "hist = model.fit(X_train, y_train, epochs = 20, batch_size = 32, verbose=2)"
   ]
  },
  {
   "cell_type": "code",
   "execution_count": 14,
   "metadata": {},
   "outputs": [
    {
     "data": {
      "image/png": "[encoded data removed]",
      "text/plain": [
       "<Figure size 640x480 with 1 Axes>"
      ]
     },
     "metadata": {},
     "output_type": "display_data"
    }
   ],
   "source": [
    "plt.plot(hist.history['loss'])\n",
    "plt.title('Training model loss')\n",
    "plt.ylabel('loss')\n",
    "plt.xlabel('epoch')\n",
    "plt.legend(['train'], loc='upper left')\n",
    "plt.show()"
   ]
  },
  {
   "cell_type": "code",
   "execution_count": 15,
   "metadata": {},
   "outputs": [
    {
     "data": {
      "text/plain": [
       "(192, 60, 1)"
      ]
     },
     "execution_count": 15,
     "metadata": {},
     "output_type": "execute_result"
    }
   ],
   "source": [
    "testData = pd.read_csv('Google_test_data.csv')\n",
    "testData[\"Close\"]=pd.to_numeric(testData.Close,errors='coerce')\n",
    "testData = testData.dropna()\n",
    "testData = testData.iloc[:,4:5]\n",
    "y_test = testData.iloc[60:,0:].values \n",
    "#input array for the model\n",
    "inputClosing = testData.iloc[:,0:].values \n",
    "inputClosing_scaled = sc.transform(inputClosing)\n",
    "inputClosing_scaled.shape\n",
    "X_test = []\n",
    "length = len(testData)\n",
    "timestep = 60\n",
    "for i in range(timestep,length):  \n",
    "    X_test.append(inputClosing_scaled[i-timestep:i,0])\n",
    "X_test = np.array(X_test)\n",
    "X_test = np.reshape(X_test,(X_test.shape[0],X_test.shape[1],1))\n",
    "X_test.shape"
   ]
  },
  {
   "cell_type": "code",
   "execution_count": 16,
   "metadata": {},
   "outputs": [
    {
     "name": "stdout",
     "output_type": "stream",
     "text": [
      "\u001b[1m6/6\u001b[0m \u001b[32m━━━━━━━━━━━━━━━━━━━━\u001b[0m\u001b[37m\u001b[0m \u001b[1m1s\u001b[0m 57ms/step\n"
     ]
    },
    {
     "data": {
      "text/plain": [
       "array([[1.2708547],\n",
       "       [1.2740693],\n",
       "       [1.2855994],\n",
       "       [1.3032547],\n",
       "       [1.3183523],\n",
       "       [1.3202324],\n",
       "       [1.3082362],\n",
       "       [1.2897284],\n",
       "       [1.2761954],\n",
       "       [1.2710168],\n",
       "       [1.2636738],\n",
       "       [1.2523518],\n",
       "       [1.2418126],\n",
       "       [1.2320849],\n",
       "       [1.2292708],\n",
       "       [1.2333418],\n",
       "       [1.251001 ],\n",
       "       [1.2799284],\n",
       "       [1.3139879],\n",
       "       [1.3483386],\n",
       "       [1.3644453],\n",
       "       [1.3630475],\n",
       "       [1.3431131],\n",
       "       [1.3125345],\n",
       "       [1.2832724],\n",
       "       [1.2647812],\n",
       "       [1.258524 ],\n",
       "       [1.2572294],\n",
       "       [1.2508942],\n",
       "       [1.2408776],\n",
       "       [1.2293488],\n",
       "       [1.2160476],\n",
       "       [1.19632  ],\n",
       "       [1.1715567],\n",
       "       [1.159962 ],\n",
       "       [1.1678523],\n",
       "       [1.1895553],\n",
       "       [1.215905 ],\n",
       "       [1.2416501],\n",
       "       [1.2561977],\n",
       "       [1.269411 ],\n",
       "       [1.2844375],\n",
       "       [1.301675 ],\n",
       "       [1.3179568],\n",
       "       [1.3292123],\n",
       "       [1.3309368],\n",
       "       [1.3210928],\n",
       "       [1.3107963],\n",
       "       [1.3064274],\n",
       "       [1.3106238],\n",
       "       [1.3228923],\n",
       "       [1.3326246],\n",
       "       [1.3364546],\n",
       "       [1.3345199],\n",
       "       [1.3329972],\n",
       "       [1.329479 ],\n",
       "       [1.3214842],\n",
       "       [1.3168209],\n",
       "       [1.3245296],\n",
       "       [1.3421255],\n",
       "       [1.3684819],\n",
       "       [1.4008052],\n",
       "       [1.4251437],\n",
       "       [1.4318159],\n",
       "       [1.4214913],\n",
       "       [1.4011304],\n",
       "       [1.3847389],\n",
       "       [1.3773853],\n",
       "       [1.378664 ],\n",
       "       [1.3833609],\n",
       "       [1.389088 ],\n",
       "       [1.3931419],\n",
       "       [1.3907487],\n",
       "       [1.3857465],\n",
       "       [1.3809723],\n",
       "       [1.3792324],\n",
       "       [1.3809633],\n",
       "       [1.3858947],\n",
       "       [1.3974415],\n",
       "       [1.4152957],\n",
       "       [1.4386977],\n",
       "       [1.461861 ],\n",
       "       [1.4762799],\n",
       "       [1.4796716],\n",
       "       [1.4827076],\n",
       "       [1.4932599],\n",
       "       [1.5099326],\n",
       "       [1.5255984],\n",
       "       [1.5355015],\n",
       "       [1.5385273],\n",
       "       [1.5397953],\n",
       "       [1.5477432],\n",
       "       [1.5637345],\n",
       "       [1.5763031],\n",
       "       [1.5773741],\n",
       "       [1.5658089],\n",
       "       [1.5439771],\n",
       "       [1.5175096],\n",
       "       [1.494121 ],\n",
       "       [1.4834752],\n",
       "       [1.4876271],\n",
       "       [1.5033696],\n",
       "       [1.5264025],\n",
       "       [1.5483662],\n",
       "       [1.5634102],\n",
       "       [1.5685515],\n",
       "       [1.5668156],\n",
       "       [1.5623232],\n",
       "       [1.5610816],\n",
       "       [1.5647473],\n",
       "       [1.5730077],\n",
       "       [1.5853846],\n",
       "       [1.5986903],\n",
       "       [1.6129923],\n",
       "       [1.6302483],\n",
       "       [1.6454471],\n",
       "       [1.6572516],\n",
       "       [1.6669666],\n",
       "       [1.6783031],\n",
       "       [1.6633028],\n",
       "       [1.6180987],\n",
       "       [1.5566659],\n",
       "       [1.5025369],\n",
       "       [1.4684526],\n",
       "       [1.4522578],\n",
       "       [1.4475257],\n",
       "       [1.4486378],\n",
       "       [1.4530864],\n",
       "       [1.4513752],\n",
       "       [1.4401114],\n",
       "       [1.4339362],\n",
       "       [1.4415396],\n",
       "       [1.4566485],\n",
       "       [1.4667317],\n",
       "       [1.4705274],\n",
       "       [1.4701633],\n",
       "       [1.4652817],\n",
       "       [1.4558135],\n",
       "       [1.4443508],\n",
       "       [1.4294103],\n",
       "       [1.4134912],\n",
       "       [1.396248 ],\n",
       "       [1.3639103],\n",
       "       [1.3238177],\n",
       "       [1.2836728],\n",
       "       [1.2512203],\n",
       "       [1.2353865],\n",
       "       [1.2398181],\n",
       "       [1.2593697],\n",
       "       [1.2853026],\n",
       "       [1.3127046],\n",
       "       [1.3362024],\n",
       "       [1.3543669],\n",
       "       [1.369121 ],\n",
       "       [1.3802828],\n",
       "       [1.3894345],\n",
       "       [1.3989378],\n",
       "       [1.4066062],\n",
       "       [1.4038632],\n",
       "       [1.3891922],\n",
       "       [1.3665596],\n",
       "       [1.3434591],\n",
       "       [1.3290857],\n",
       "       [1.3286755],\n",
       "       [1.3422241],\n",
       "       [1.3662822],\n",
       "       [1.3901199],\n",
       "       [1.409225 ],\n",
       "       [1.4254779],\n",
       "       [1.4397529],\n",
       "       [1.4513069],\n",
       "       [1.4603993],\n",
       "       [1.4673669],\n",
       "       [1.4700922],\n",
       "       [1.4684963],\n",
       "       [1.4599055],\n",
       "       [1.4483154],\n",
       "       [1.4394023],\n",
       "       [1.4331584],\n",
       "       [1.4278072],\n",
       "       [1.4520823],\n",
       "       [1.5024756],\n",
       "       [1.5585904],\n",
       "       [1.6016159],\n",
       "       [1.6222728],\n",
       "       [1.618681 ],\n",
       "       [1.5877931],\n",
       "       [1.5455859],\n",
       "       [1.5068327],\n",
       "       [1.4871119],\n",
       "       [1.4833215],\n",
       "       [1.4858923]], dtype=float32)"
      ]
     },
     "execution_count": 16,
     "metadata": {},
     "output_type": "execute_result"
    }
   ],
   "source": [
    "y_pred = model.predict(X_test)\n",
    "y_pred"
   ]
  },
  {
   "cell_type": "code",
   "execution_count": 17,
   "metadata": {},
   "outputs": [],
   "source": [
    "predicted_price = sc.inverse_transform(y_pred)"
   ]
  },
  {
   "cell_type": "code",
   "execution_count": 19,
   "metadata": {},
   "outputs": [
    {
     "data": {
      "image/png": "[encoded data removed]",
      "text/plain": [
       "<Figure size 640x480 with 1 Axes>"
      ]
     },
     "metadata": {},
     "output_type": "display_data"
    }
   ],
   "source": [
    "plt.plot(y_test, color = 'red', label = 'Actual Stock Price')\n",
    "plt.plot(predicted_price, color = 'blue', label = 'Predicted Stock Price')\n",
    "plt.title('Google stock price prediction')\n",
    "plt.xlabel('Time')\n",
    "plt.ylabel('Stock Price')\n",
    "plt.legend()\n",
    "plt.show()"
   ]
  },
  {
   "cell_type": "code",
   "execution_count": null,
   "metadata": {},
   "outputs": [],
   "source": []
  }
 ],
 "metadata": {
  "kernelspec": {
   "display_name": "Python 3",
   "language": "python",
   "name": "python3"
  },
  "language_info": {
   "codemirror_mode": {
    "name": "ipython",
    "version": 3
   },
   "file_extension": ".py",
   "mimetype": "text/x-python",
   "name": "python",
   "nbconvert_exporter": "python",
   "pygments_lexer": "ipython3",
   "version": "3.12.7"
  }
 },
 "nbformat": 4,
 "nbformat_minor": 4
}
